{
 "cells": [
  {
   "cell_type": "markdown",
   "metadata": {},
   "source": [
    "# Assignment 1.2\n",
    "# Class: DSC 650\n",
    "# Name: Wittlieff, Harlan\n",
    "# Date: 6/22/2022"
   ]
  },
  {
   "cell_type": "markdown",
   "metadata": {},
   "source": [
    "## A. Data Sizes"
   ]
  },
  {
   "cell_type": "markdown",
   "metadata": {},
   "source": [
    "### 128 character message"
   ]
  },
  {
   "cell_type": "code",
   "execution_count": 1,
   "metadata": {},
   "outputs": [],
   "source": [
    "# Setup variables\n",
    "characters = 128\n",
    "bytespercharacter = 1"
   ]
  },
  {
   "cell_type": "code",
   "execution_count": 11,
   "metadata": {},
   "outputs": [
    {
     "name": "stdout",
     "output_type": "stream",
     "text": [
      "File Size: 128 Bytes\n"
     ]
    }
   ],
   "source": [
    "# Calculate & print results\n",
    "m_results = characters*bytespercharacter\n",
    "print('File Size:',m_results,'Bytes')"
   ]
  },
  {
   "cell_type": "markdown",
   "metadata": {},
   "source": [
    "### 1024x768 PNG image"
   ]
  },
  {
   "cell_type": "code",
   "execution_count": 17,
   "metadata": {},
   "outputs": [],
   "source": [
    "# Setup variables\n",
    "pixels_w = 1024\n",
    "pixels_h = 768\n",
    "bit_depth = 32 # For RGBA\n",
    "bits_per_byte = 8\n",
    "bytes_per_MB = pow(2, 20)"
   ]
  },
  {
   "cell_type": "code",
   "execution_count": 18,
   "metadata": {},
   "outputs": [
    {
     "name": "stdout",
     "output_type": "stream",
     "text": [
      "File Size: 3.0 MB\n"
     ]
    }
   ],
   "source": [
    "# Calculate & print results\n",
    "png_results = pixels_w*pixels_h*bit_depth/bits_per_byte/bytes_per_MB\n",
    "print('File Size:',png_results,'MB')"
   ]
  },
  {
   "cell_type": "markdown",
   "metadata": {},
   "source": [
    "### 1024x768 RAW image"
   ]
  },
  {
   "cell_type": "code",
   "execution_count": 30,
   "metadata": {},
   "outputs": [],
   "source": [
    "# Setup variables\n",
    "pixels_w = 1024\n",
    "pixels_h = 768\n",
    "bit_depth = 16\n",
    "bits_per_byte = 8\n",
    "bytes_per_MB = pow(2, 20)"
   ]
  },
  {
   "cell_type": "code",
   "execution_count": 31,
   "metadata": {},
   "outputs": [
    {
     "name": "stdout",
     "output_type": "stream",
     "text": [
      "File Size: 1.5 MB\n"
     ]
    }
   ],
   "source": [
    "# Calculate & print results\n",
    "raw_results = pixels_w*pixels_h*bit_depth/bits_per_byte/bytes_per_MB\n",
    "print('File Size:',raw_results,'MB')"
   ]
  },
  {
   "cell_type": "markdown",
   "metadata": {},
   "source": [
    "### HD (1080p) HEVC Video (15 minutes)"
   ]
  },
  {
   "cell_type": "code",
   "execution_count": 46,
   "metadata": {},
   "outputs": [],
   "source": [
    "# Setup variables\n",
    "pixels_w = 1920\n",
    "pixels_h = 1080\n",
    "bit_depth = 10\n",
    "fps = 30\n",
    "bits_per_byte = 8\n",
    "bytes_per_MB = pow(2, 20)\n",
    "total_frames = 15*60*fps # 15 minutes * 60 seconds per minute * fps\n",
    "avg_reduction = (1/14)*.5*.5 # MPEG-2 compression at 14:1, AVC is a 50% improvement on MPEG-2 , HEVC is a 50% improvement on AVC"
   ]
  },
  {
   "cell_type": "code",
   "execution_count": 47,
   "metadata": {},
   "outputs": [
    {
     "name": "stdout",
     "output_type": "stream",
     "text": [
      "File Size: 1191.8204171316963 MB\n"
     ]
    }
   ],
   "source": [
    "# Calculate & print results\n",
    "hdhevc_results = (pixels_w*pixels_h*bit_depth/bits_per_byte/bytes_per_MB)*total_frames*avg_reduction\n",
    "print('File Size:',hdhevc_results,'MB')"
   ]
  },
  {
   "cell_type": "markdown",
   "metadata": {},
   "source": [
    "### HD (1080p) Uncompressed Video (15 minutes)"
   ]
  },
  {
   "cell_type": "code",
   "execution_count": 48,
   "metadata": {},
   "outputs": [],
   "source": [
    "# Setup variables\n",
    "pixels_w = 1920\n",
    "pixels_h = 1080\n",
    "bit_depth = 10\n",
    "fps = 30\n",
    "bits_per_byte = 8\n",
    "bytes_per_MB = pow(2, 20)\n",
    "total_frames = 15*60*fps # 15 minutes * 60 seconds per minute * fps"
   ]
  },
  {
   "cell_type": "code",
   "execution_count": 49,
   "metadata": {},
   "outputs": [
    {
     "name": "stdout",
     "output_type": "stream",
     "text": [
      "File Size: 66741.943359375 MB\n"
     ]
    }
   ],
   "source": [
    "# Calculate & print results\n",
    "hdu_results = (pixels_w*pixels_h*bit_depth/bits_per_byte/bytes_per_MB)*total_frames\n",
    "print('File Size:',hdu_results,'MB')"
   ]
  },
  {
   "cell_type": "markdown",
   "metadata": {},
   "source": [
    "### 4K UHD HEVC Video (15 minutes)"
   ]
  },
  {
   "cell_type": "code",
   "execution_count": 51,
   "metadata": {},
   "outputs": [],
   "source": [
    "# Setup variables\n",
    "pixels_w = 3840\n",
    "pixels_h = 2160\n",
    "bit_depth = 10\n",
    "fps = 30\n",
    "bits_per_byte = 8\n",
    "bytes_per_MB = pow(2, 20)\n",
    "total_frames = 15*60*fps # 15 minutes * 60 seconds per minute * fps\n",
    "avg_reduction = (1/14)*.5*.5 # MPEG-2 compression at 14:1, AVC is a 50% improvement on MPEG-2 , HEVC is a 50% improvement on AVC"
   ]
  },
  {
   "cell_type": "code",
   "execution_count": 54,
   "metadata": {},
   "outputs": [
    {
     "name": "stdout",
     "output_type": "stream",
     "text": [
      "File Size: 4767.281668526785 MB\n"
     ]
    }
   ],
   "source": [
    "# Calculate & print results\n",
    "hevc4k_results = (pixels_w*pixels_h*bit_depth/bits_per_byte/bytes_per_MB)*total_frames*avg_reduction\n",
    "print('File Size:',hevc4k_results,'MB')"
   ]
  },
  {
   "cell_type": "markdown",
   "metadata": {},
   "source": [
    "### 4k UHD Uncompressed Video (15 minutes)"
   ]
  },
  {
   "cell_type": "code",
   "execution_count": 55,
   "metadata": {},
   "outputs": [],
   "source": [
    "# Setup variables\n",
    "pixels_w = 3840\n",
    "pixels_h = 2160\n",
    "bit_depth = 10\n",
    "fps = 30\n",
    "bits_per_byte = 8\n",
    "bytes_per_MB = pow(2, 20)\n",
    "total_frames = 15*60*fps # 15 minutes * 60 seconds per minute * fps"
   ]
  },
  {
   "cell_type": "code",
   "execution_count": 56,
   "metadata": {},
   "outputs": [
    {
     "name": "stdout",
     "output_type": "stream",
     "text": [
      "File Size: 266967.7734375 MB\n"
     ]
    }
   ],
   "source": [
    "# Calculate & print results\n",
    "results4k = (pixels_w*pixels_h*bit_depth/bits_per_byte/bytes_per_MB)*total_frames\n",
    "print('File Size:',results4k,'MB')"
   ]
  },
  {
   "cell_type": "markdown",
   "metadata": {},
   "source": [
    "### Human Genome (Uncompressed)"
   ]
  },
  {
   "cell_type": "code",
   "execution_count": 57,
   "metadata": {},
   "outputs": [],
   "source": [
    "# I used an article from medium for this file size \n",
    "# https://medium.com/precision-medicine/how-big-is-the-human-genome-e90caa3409b0\n",
    "\n",
    "genome = 200"
   ]
  },
  {
   "cell_type": "code",
   "execution_count": 58,
   "metadata": {},
   "outputs": [
    {
     "name": "stdout",
     "output_type": "stream",
     "text": [
      "File Size: 200 GB\n"
     ]
    }
   ],
   "source": [
    "print('File Size:', genome, 'GB')"
   ]
  },
  {
   "cell_type": "markdown",
   "metadata": {},
   "source": [
    "## B. Scaling"
   ]
  },
  {
   "cell_type": "code",
   "execution_count": 81,
   "metadata": {},
   "outputs": [],
   "source": [
    "# Setup variables\n",
    "hd_size = 10\n",
    "hdfs_scaler = 3\n",
    "mb_per_tb = pow(2, 20)\n",
    "snappy_ratio = 1.5\n",
    "annualdays = 365.25"
   ]
  },
  {
   "cell_type": "markdown",
   "metadata": {},
   "source": [
    "### Daily Twitter Tweets (Uncompressed)"
   ]
  },
  {
   "cell_type": "code",
   "execution_count": 61,
   "metadata": {},
   "outputs": [],
   "source": [
    "# Setup variables\n",
    "tweetsperday = 500000000"
   ]
  },
  {
   "cell_type": "code",
   "execution_count": 85,
   "metadata": {},
   "outputs": [
    {
     "name": "stdout",
     "output_type": "stream",
     "text": [
      "Size: 0.05820766091346741 TB\n",
      "HDs: 0.017462298274040222\n"
     ]
    }
   ],
   "source": [
    "# Calculate & print results\n",
    "t_size = tweetsperday*(m_results/bytes_per_MB)/mb_per_tb\n",
    "print('Size:',t_size,'TB')\n",
    "t_hds = (t_size*hdfs_scaler)/hd_size\n",
    "print('HDs:', t_hds)"
   ]
  },
  {
   "cell_type": "markdown",
   "metadata": {},
   "source": [
    "### Daily Twitter Tweets (Snappy Compressed)"
   ]
  },
  {
   "cell_type": "code",
   "execution_count": 86,
   "metadata": {},
   "outputs": [
    {
     "name": "stdout",
     "output_type": "stream",
     "text": [
      "Size: 0.038805107275644936 TB\n",
      "HDs: 0.011641532182693481\n"
     ]
    }
   ],
   "source": [
    "# Calculate & print results\n",
    "ts_size = tweetsperday*(m_results/bytes_per_MB)/mb_per_tb/snappy_ratio\n",
    "print('Size:',ts_size,'TB')\n",
    "ts_hds = (ts_size*hdfs_scaler)/hd_size\n",
    "print('HDs:', ts_hds)"
   ]
  },
  {
   "cell_type": "markdown",
   "metadata": {},
   "source": [
    "### Daily Instagram Photos"
   ]
  },
  {
   "cell_type": "code",
   "execution_count": 77,
   "metadata": {},
   "outputs": [],
   "source": [
    "# Setup variables\n",
    "instasperday = 100000000"
   ]
  },
  {
   "cell_type": "code",
   "execution_count": 87,
   "metadata": {},
   "outputs": [
    {
     "name": "stdout",
     "output_type": "stream",
     "text": [
      "Size: 250.33950805664062 TB\n",
      "HDs: 75.10185241699219\n"
     ]
    }
   ],
   "source": [
    "# Calculate & print results\n",
    "i_size = ((instasperday*.75*png_results)+(instasperday*.25*raw_results))/mb_per_tb\n",
    "print('Size:',i_size,'TB')\n",
    "i_hds = (i_size*hdfs_scaler)/hd_size\n",
    "print('HDs:', i_hds)"
   ]
  },
  {
   "cell_type": "markdown",
   "metadata": {},
   "source": [
    "### Daily YouTube Videos"
   ]
  },
  {
   "cell_type": "code",
   "execution_count": 90,
   "metadata": {},
   "outputs": [],
   "source": [
    "# Setup variables\n",
    "videosperday = 500*60/15*24"
   ]
  },
  {
   "cell_type": "code",
   "execution_count": 93,
   "metadata": {},
   "outputs": [
    {
     "name": "stdout",
     "output_type": "stream",
     "text": [
      "Size 54.55720903617995 TB\n",
      "HDs: 16.367162710853982\n"
     ]
    }
   ],
   "source": [
    "# Calculate & print results\n",
    "v_size = videosperday*hdhevc_results/mb_per_tb\n",
    "print('Size', v_size, 'TB')\n",
    "v_hds = (v_size*hdfs_scaler)/hd_size\n",
    "print('HDs:', v_hds)"
   ]
  },
  {
   "cell_type": "markdown",
   "metadata": {},
   "source": [
    "### Yearly Twitter Tweets (Uncompressed)"
   ]
  },
  {
   "cell_type": "code",
   "execution_count": 95,
   "metadata": {},
   "outputs": [
    {
     "name": "stdout",
     "output_type": "stream",
     "text": [
      "Size: 21.26034814864397 TB\n",
      "HDs: 6.378104444593191\n"
     ]
    }
   ],
   "source": [
    "# Calculate & print results\n",
    "y_t_size = t_size*annualdays\n",
    "print('Size:',y_t_size,'TB')\n",
    "y_t_hds = (y_t_size*hdfs_scaler)/hd_size\n",
    "print('HDs:', y_t_hds)"
   ]
  },
  {
   "cell_type": "markdown",
   "metadata": {},
   "source": [
    "### Yearly Twitter Tweets (Snappy Compressed)"
   ]
  },
  {
   "cell_type": "code",
   "execution_count": 96,
   "metadata": {},
   "outputs": [
    {
     "name": "stdout",
     "output_type": "stream",
     "text": [
      "Size: 14.173565432429314 TB\n",
      "HDs: 4.252069629728794\n"
     ]
    }
   ],
   "source": [
    "# Calculate & print results\n",
    "y_ts_size = ts_size*annualdays\n",
    "print('Size:',y_ts_size,'TB')\n",
    "y_ts_hds = (y_ts_size*hdfs_scaler)/hd_size\n",
    "print('HDs:', y_ts_hds)"
   ]
  },
  {
   "cell_type": "markdown",
   "metadata": {},
   "source": [
    "### Yearly Instagram Photos"
   ]
  },
  {
   "cell_type": "code",
   "execution_count": 97,
   "metadata": {},
   "outputs": [
    {
     "name": "stdout",
     "output_type": "stream",
     "text": [
      "Size: 91436.50531768799 TB\n",
      "HDs: 27430.951595306396\n"
     ]
    }
   ],
   "source": [
    "# Calculate & print results\n",
    "y_i_size = i_size*annualdays\n",
    "print('Size:',y_i_size,'TB')\n",
    "y_i_hds = (y_i_size*hdfs_scaler)/hd_size\n",
    "print('HDs:', y_i_hds)"
   ]
  },
  {
   "cell_type": "markdown",
   "metadata": {},
   "source": [
    "### Yearly YouTube Videos"
   ]
  },
  {
   "cell_type": "code",
   "execution_count": 98,
   "metadata": {},
   "outputs": [
    {
     "name": "stdout",
     "output_type": "stream",
     "text": [
      "Size: 19927.020600464726 TB\n",
      "HDs: 5978.106180139418\n"
     ]
    }
   ],
   "source": [
    "# Calculate & print results\n",
    "y_v_size = v_size*annualdays\n",
    "print('Size:',y_v_size,'TB')\n",
    "y_v_hds = (y_v_size*hdfs_scaler)/hd_size\n",
    "print('HDs:', y_v_hds)"
   ]
  },
  {
   "cell_type": "markdown",
   "metadata": {},
   "source": [
    "## C. Reliability"
   ]
  },
  {
   "cell_type": "code",
   "execution_count": 99,
   "metadata": {},
   "outputs": [],
   "source": [
    "# Setup variables\n",
    "failurerate = 0.0122"
   ]
  },
  {
   "cell_type": "markdown",
   "metadata": {},
   "source": [
    "### Twitter Tweets (Uncompressed)"
   ]
  },
  {
   "cell_type": "code",
   "execution_count": 100,
   "metadata": {},
   "outputs": [
    {
     "name": "stdout",
     "output_type": "stream",
     "text": [
      "0.07781287422403693 HDs Fail Annually\n"
     ]
    }
   ],
   "source": [
    "# Calculate & print results\n",
    "y_t_f = y_t_hds*failurerate\n",
    "print(y_t_f, 'HDs Fail Annually')"
   ]
  },
  {
   "cell_type": "markdown",
   "metadata": {},
   "source": [
    "### Twitter Tweets (Snappy Compressed)\t"
   ]
  },
  {
   "cell_type": "code",
   "execution_count": 101,
   "metadata": {},
   "outputs": [
    {
     "name": "stdout",
     "output_type": "stream",
     "text": [
      "0.05187524948269129 HDs Fail Annually\n"
     ]
    }
   ],
   "source": [
    "# Calculate & print results\n",
    "y_ts_f = y_ts_hds*failurerate\n",
    "print(y_ts_f, 'HDs Fail Annually')"
   ]
  },
  {
   "cell_type": "markdown",
   "metadata": {},
   "source": [
    "### Instagram Photos"
   ]
  },
  {
   "cell_type": "code",
   "execution_count": 102,
   "metadata": {},
   "outputs": [
    {
     "name": "stdout",
     "output_type": "stream",
     "text": [
      "334.65760946273804 HDs Fail Annually\n"
     ]
    }
   ],
   "source": [
    "# Setup variables\n",
    "y_i_f = y_i_hds*failurerate\n",
    "print(y_i_f, 'HDs Fail Annually')"
   ]
  },
  {
   "cell_type": "markdown",
   "metadata": {},
   "source": [
    "### YouTube Videos"
   ]
  },
  {
   "cell_type": "code",
   "execution_count": 103,
   "metadata": {},
   "outputs": [
    {
     "name": "stdout",
     "output_type": "stream",
     "text": [
      "72.9328953977009 HDs Fail Annually\n"
     ]
    }
   ],
   "source": [
    "# Calculate & print results\n",
    "y_v_f = y_v_hds*failurerate\n",
    "print(y_v_f, 'HDs Fail Annually')"
   ]
  },
  {
   "cell_type": "markdown",
   "metadata": {},
   "source": [
    "## D. Latency"
   ]
  },
  {
   "cell_type": "markdown",
   "metadata": {},
   "source": [
    "For this section I utlized the formula in Oneneck's Estimating WAN Latency Calculator\n",
    "https://www.oneneck.com/blog/estimating-wan-latency-requirements"
   ]
  },
  {
   "cell_type": "code",
   "execution_count": 106,
   "metadata": {},
   "outputs": [],
   "source": [
    "# Setup variables\n",
    "distance_multiplier = .1\n",
    "distance_adder = 100\n",
    "latency_m = 124"
   ]
  },
  {
   "cell_type": "markdown",
   "metadata": {},
   "source": [
    "### Los Angeles to Amsterdam"
   ]
  },
  {
   "cell_type": "code",
   "execution_count": 105,
   "metadata": {},
   "outputs": [],
   "source": [
    "# Setup variables\n",
    "distance = 5551"
   ]
  },
  {
   "cell_type": "code",
   "execution_count": 109,
   "metadata": {},
   "outputs": [
    {
     "name": "stdout",
     "output_type": "stream",
     "text": [
      "Latency: 50.0491935483871 ms\n"
     ]
    }
   ],
   "source": [
    "# Calculate & print results\n",
    "latency = (distance*(1+distance_multiplier)+distance_adder)/latency_m\n",
    "print('Latency:', latency, 'ms')"
   ]
  },
  {
   "cell_type": "markdown",
   "metadata": {},
   "source": [
    "### Low Earth Orbit Satellite"
   ]
  },
  {
   "cell_type": "code",
   "execution_count": 111,
   "metadata": {},
   "outputs": [],
   "source": [
    "# Setup variables\n",
    "distance = 1200"
   ]
  },
  {
   "cell_type": "code",
   "execution_count": 112,
   "metadata": {},
   "outputs": [
    {
     "name": "stdout",
     "output_type": "stream",
     "text": [
      "Latency: 11.451612903225806 ms\n"
     ]
    }
   ],
   "source": [
    "# Calculate & print results\n",
    "latency = (distance*(1+distance_multiplier)+distance_adder)/latency_m\n",
    "print('Latency:', latency, 'ms')"
   ]
  },
  {
   "cell_type": "markdown",
   "metadata": {},
   "source": [
    "### Geostationary Satellite"
   ]
  },
  {
   "cell_type": "code",
   "execution_count": 113,
   "metadata": {},
   "outputs": [],
   "source": [
    "# Setup variables\n",
    "distance = 22300"
   ]
  },
  {
   "cell_type": "code",
   "execution_count": 114,
   "metadata": {},
   "outputs": [
    {
     "name": "stdout",
     "output_type": "stream",
     "text": [
      "Latency: 198.62903225806454 ms\n"
     ]
    }
   ],
   "source": [
    "# Calculate & print results\n",
    "latency = (distance*(1+distance_multiplier)+distance_adder)/latency_m\n",
    "print('Latency:', latency, 'ms')"
   ]
  },
  {
   "cell_type": "markdown",
   "metadata": {},
   "source": [
    "### Earth to the Moon"
   ]
  },
  {
   "cell_type": "code",
   "execution_count": 115,
   "metadata": {},
   "outputs": [],
   "source": [
    "# Setup variables\n",
    "distance = 238900"
   ]
  },
  {
   "cell_type": "code",
   "execution_count": 116,
   "metadata": {},
   "outputs": [
    {
     "name": "stdout",
     "output_type": "stream",
     "text": [
      "Latency: 2120.0806451612902 ms\n"
     ]
    }
   ],
   "source": [
    "# Calculate & print results\n",
    "latency = (distance*(1+distance_multiplier)+distance_adder)/latency_m\n",
    "print('Latency:', latency, 'ms')"
   ]
  },
  {
   "cell_type": "markdown",
   "metadata": {},
   "source": [
    "### Earth to Mars"
   ]
  },
  {
   "cell_type": "code",
   "execution_count": 117,
   "metadata": {},
   "outputs": [],
   "source": [
    "# Setup variables\n",
    "distance = 125270000\n",
    "ms_in_min = 60000"
   ]
  },
  {
   "cell_type": "code",
   "execution_count": 118,
   "metadata": {},
   "outputs": [
    {
     "name": "stdout",
     "output_type": "stream",
     "text": [
      "Latency: 18.52111559139785 min\n"
     ]
    }
   ],
   "source": [
    "# Calculate & print results\n",
    "latency = ((distance*(1+distance_multiplier)+distance_adder)/latency_m)/ms_in_min\n",
    "print('Latency:', latency, 'min')"
   ]
  }
 ],
 "metadata": {
  "kernelspec": {
   "display_name": "Python 3",
   "language": "python",
   "name": "python3"
  },
  "language_info": {
   "codemirror_mode": {
    "name": "ipython",
    "version": 3
   },
   "file_extension": ".py",
   "mimetype": "text/x-python",
   "name": "python",
   "nbconvert_exporter": "python",
   "pygments_lexer": "ipython3",
   "version": "3.8.3"
  }
 },
 "nbformat": 4,
 "nbformat_minor": 4
}
